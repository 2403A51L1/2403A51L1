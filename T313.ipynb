{
  "nbformat": 4,
  "nbformat_minor": 0,
  "metadata": {
    "colab": {
      "provenance": [],
      "toc_visible": true,
      "authorship_tag": "ABX9TyMONIfuNE6ajnBiqCPSnCXT",
      "include_colab_link": true
    },
    "kernelspec": {
      "name": "python3",
      "display_name": "Python 3"
    },
    "language_info": {
      "name": "python"
    }
  },
  "cells": [
    {
      "cell_type": "markdown",
      "metadata": {
        "id": "view-in-github",
        "colab_type": "text"
      },
      "source": [
        "<a href=\"https://colab.research.google.com/github/2403A51L1/2403A51L1/blob/main/T313.ipynb\" target=\"_parent\"><img src=\"https://colab.research.google.com/assets/colab-badge.svg\" alt=\"Open In Colab\"/></a>"
      ]
    },
    {
      "cell_type": "code",
      "execution_count": 2,
      "metadata": {
        "colab": {
          "base_uri": "https://localhost:8080/",
          "height": 317
        },
        "id": "Aqa_34kHLmXh",
        "outputId": "62f4fc70-00c6-4374-b27c-bc7923c878de"
      },
      "outputs": [
        {
          "output_type": "stream",
          "name": "stderr",
          "text": [
            "[nltk_data] Downloading package punkt to /root/nltk_data...\n",
            "[nltk_data]   Package punkt is already up-to-date!\n",
            "Device set to use cpu\n"
          ]
        },
        {
          "output_type": "stream",
          "name": "stdout",
          "text": [
            "Inclusive AI Assessment Tool\n",
            "\n",
            "Question: What is the capital of France?\n",
            "Options: Berlin, Paris, Rome\n",
            "Correct Answer: Paris\n",
            "\n",
            "Descriptive Answer Evaluation:\n",
            "Label: POSITIVE | Confidence: 0.65\n"
          ]
        },
        {
          "output_type": "display_data",
          "data": {
            "text/plain": [
              "<IPython.core.display.HTML object>"
            ],
            "text/html": [
              "\n",
              "    <h4>Accessibility Features</h4>\n",
              "    <ul>\n",
              "      <li><b>Voice to Text:</b> (Simulated) Use mic input to transcribe answers.</li>\n",
              "      <li><b>Text to Speech:</b> Questions are read aloud (browser dependent).</li>\n",
              "      <li><b>Custom Input Methods:</b> Keyboard / Touch / Assistive devices supported.</li>\n",
              "    </ul>\n",
              "    "
            ]
          },
          "metadata": {}
        }
      ],
      "source": [
        "!pip install nltk transformers --quiet\n",
        "import random\n",
        "import nltk\n",
        "from transformers import pipeline\n",
        "from IPython.display import display, HTML\n",
        "nltk.download('punkt')\n",
        "def get_mcq_question(level):\n",
        "    questions = {\n",
        "        'easy': [\n",
        "            {\"question\": \"What is 2 + 2?\", \"options\": [\"3\", \"4\", \"5\"], \"answer\": \"4\"},\n",
        "        ],\n",
        "        'medium': [\n",
        "            {\"question\": \"What is the capital of France?\", \"options\": [\"Berlin\", \"Paris\", \"Rome\"], \"answer\": \"Paris\"},\n",
        "        ],\n",
        "        'hard': [\n",
        "            {\"question\": \"Explain Newton's Third Law.\", \"options\": [\"Action-Reaction\", \"Gravity\", \"Inertia\"], \"answer\": \"Action-Reaction\"},\n",
        "        ]\n",
        "    }\n",
        "    return random.choice(questions[level])\n",
        "def show_accessibility_features():\n",
        "    display(HTML(\"\"\"\n",
        "    <h4>Accessibility Features</h4>\n",
        "    <ul>\n",
        "      <li><b>Voice to Text:</b> (Simulated) Use mic input to transcribe answers.</li>\n",
        "      <li><b>Text to Speech:</b> Questions are read aloud (browser dependent).</li>\n",
        "      <li><b>Custom Input Methods:</b> Keyboard / Touch / Assistive devices supported.</li>\n",
        "    </ul>\n",
        "    \"\"\"))\n",
        "qa_pipeline = pipeline(\"text-classification\", model=\"distilbert-base-uncased-finetuned-sst-2-english\")\n",
        "\n",
        "def evaluate_answer(answer):\n",
        "    result = qa_pipeline(answer)\n",
        "    return result[0]\n",
        "print(\"Inclusive AI Assessment Tool\\n\")\n",
        "question_data = get_mcq_question('medium')\n",
        "print(\"Question:\", question_data[\"question\"])\n",
        "print(\"Options:\", \", \".join(question_data[\"options\"]))\n",
        "print(\"Correct Answer:\", question_data[\"answer\"])\n",
        "user_answer = \"Newton's third law states that for every action there is an equal and opposite reaction.\"\n",
        "evaluation = evaluate_answer(user_answer)\n",
        "print(\"\\nDescriptive Answer Evaluation:\")\n",
        "print(\"Label:\", evaluation['label'], \"| Confidence:\", round(evaluation['score'], 2))\n",
        "show_accessibility_features()"
      ]
    }
  ]
}